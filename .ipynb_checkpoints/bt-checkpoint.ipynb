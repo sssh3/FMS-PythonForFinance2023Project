{
 "cells": [
  {
   "cell_type": "code",
   "execution_count": 2,
   "id": "21ece246",
   "metadata": {},
   "outputs": [],
   "source": [
    "import backtrader as bt\n",
    "import pandas as pd\n",
    "import matplotlib.pyplot as plt\n",
    "import numpy as np\n",
    "from datetime import datetime\n",
    "import ta"
   ]
  },
  {
   "cell_type": "markdown",
   "id": "5c648594",
   "metadata": {},
   "source": [
    "Genres available: 'SPX,NKX,2YUSY,10YUSY,USDEUR,USDJPY,BTCUSD,ETH'"
   ]
  },
  {
   "cell_type": "code",
   "execution_count": null,
   "id": "604fe545",
   "metadata": {},
   "outputs": [],
   "source": [
    "dic_pred = {'SPX': [1.0042133331298828,\n",
    "  1.0074454545974731,\n",
    "  1.0086519718170166,\n",
    "  1.0071972608566284,\n",
    "  1.0062665939331055,\n",
    "  1.0049595832824707,\n",
    "  1.0041393041610718,\n",
    "  1.0084354877471924,\n",
    "  1.0064897537231445,\n",
    "  1.0067540407180786,\n",
    "  1.0062111616134644,\n",
    "  1.0052202939987183,\n",
    "  1.0046688318252563,\n",
    "  1.0035264492034912,\n",
    "  1.0025644302368164],\n",
    " 'NKX': [1.001426339149475,\n",
    "  0.9991018772125244,\n",
    "  1.001373052597046,\n",
    "  0.9996775984764099,\n",
    "  1.0001791715621948,\n",
    "  1.0002129077911377,\n",
    "  0.9998658299446106,\n",
    "  0.9988505244255066,\n",
    "  0.9992351531982422,\n",
    "  1.0025736093521118,\n",
    "  1.0017427206039429,\n",
    "  1.0016067028045654,\n",
    "  1.0021313428878784,\n",
    "  1.0018638372421265,\n",
    "  1.0015697479248047],\n",
    " '2YUSY': [0.9996762275695801,\n",
    "  0.9973750114440918,\n",
    "  0.998511552810669,\n",
    "  0.9956330060958862,\n",
    "  0.9980739951133728,\n",
    "  1.0000396966934204,\n",
    "  1.0028233528137207,\n",
    "  1.0049209594726562,\n",
    "  1.0060358047485352,\n",
    "  1.0056099891662598,\n",
    "  1.0065584182739258,\n",
    "  1.0080634355545044,\n",
    "  1.0106127262115479,\n",
    "  1.0114061832427979,\n",
    "  1.012352705001831],\n",
    " '10YUSY': [0.9968363046646118,\n",
    "  0.9985263347625732,\n",
    "  1.000723958015442,\n",
    "  1.0073760747909546,\n",
    "  1.007480263710022,\n",
    "  1.0074888467788696,\n",
    "  1.0092558860778809,\n",
    "  1.0073784589767456,\n",
    "  1.009335994720459,\n",
    "  1.0098748207092285,\n",
    "  1.0077608823776245,\n",
    "  1.010390043258667,\n",
    "  1.0130491256713867,\n",
    "  1.016015887260437,\n",
    "  1.0162909030914307],\n",
    " 'USDEUR': [1.0011792182922363,\n",
    "  1.0027763843536377,\n",
    "  1.0016621351242065,\n",
    "  1.0033330917358398,\n",
    "  1.003596544265747,\n",
    "  1.00363290309906,\n",
    "  1.003009557723999,\n",
    "  1.0023223161697388,\n",
    "  1.0025298595428467,\n",
    "  1.0021010637283325,\n",
    "  1.0026016235351562,\n",
    "  1.0026105642318726,\n",
    "  1.0022625923156738,\n",
    "  1.001440405845642,\n",
    "  1.0030477046966553],\n",
    " 'USDJPY': [0.9990713000297546,\n",
    "  1.0013352632522583,\n",
    "  1.0009260177612305,\n",
    "  1.0000416040420532,\n",
    "  0.9997223019599915,\n",
    "  1.0011886358261108,\n",
    "  1.0007007122039795,\n",
    "  0.9997785687446594,\n",
    "  0.9974855184555054,\n",
    "  0.9965397715568542,\n",
    "  0.997887372970581,\n",
    "  0.9985108375549316,\n",
    "  0.9997363686561584,\n",
    "  1.0015538930892944,\n",
    "  1.0022351741790771],\n",
    " 'BTCUSD': [1.003149390220642,\n",
    "  0.9980610013008118,\n",
    "  0.9893614649772644,\n",
    "  0.9891991019248962,\n",
    "  0.9921113848686218,\n",
    "  0.9909883141517639,\n",
    "  0.9927812814712524,\n",
    "  0.9953610897064209,\n",
    "  0.9972026944160461,\n",
    "  0.9938741326332092,\n",
    "  0.9904754161834717,\n",
    "  0.9894970655441284,\n",
    "  0.9898374080657959,\n",
    "  0.9865140914916992,\n",
    "  0.9872955679893494],\n",
    " 'ETH': [0.9912291169166565,\n",
    "  0.9897580742835999,\n",
    "  0.9864181876182556,\n",
    "  0.9895048141479492,\n",
    "  0.9805629253387451,\n",
    "  0.977593183517456,\n",
    "  0.9749253392219543,\n",
    "  0.9727044105529785,\n",
    "  0.9674498438835144,\n",
    "  0.9634069204330444,\n",
    "  0.9583613276481628,\n",
    "  0.9615297913551331,\n",
    "  0.9667393565177917,\n",
    "  0.9674011468887329,\n",
    "  0.963093638420105]}"
   ]
  },
  {
   "cell_type": "code",
   "execution_count": 4,
   "id": "1649d75a",
   "metadata": {},
   "outputs": [],
   "source": [
    "# sp500 = pd.read_csv('data/sp500.csv')\n",
    "\n",
    "# sp500 = sp500.set_index('Date')\n",
    "# sp500 = ta.add_all_ta_features(sp500, open='Open', high='High', low='Low', close='Close', volume='Volume', fillna=True)\n",
    "# horizons = [2,5,60,250]\n",
    "# new_predictors = []\n",
    "# for horizon in horizons:\n",
    "#     rolling_averages = sp500.rolling(horizon).mean()\n",
    "#     ratio_column = f'Close_Ratio_{horizon}'\n",
    "#     sp500[ratio_column] = sp500['Close'] / rolling_averages['Close']\n",
    "\n",
    "# sp500 = sp500.loc['1990-01-01':].copy()\n",
    "# sp500 = sp500.drop(['Dividends','Stock Splits'], axis=1)"
   ]
  },
  {
   "cell_type": "code",
   "execution_count": 16,
   "id": "bc13d564",
   "metadata": {},
   "outputs": [],
   "source": [
    "# Create a Stratey\n",
    "class TestStrategy(bt.Strategy):\n",
    "    params = (\n",
    "        ('maperiod', 15),\n",
    "        ('printlog', False),\n",
    "    )\n",
    "\n",
    "    def log(self, txt, dt=None, doprint=False):\n",
    "        ''' Logging function fot this strategy'''\n",
    "        if self.params.printlog or doprint:\n",
    "            dt = dt or self.datas[0].datetime.date(0)\n",
    "            print('%s, %s' % (dt.isoformat(), txt))\n",
    "\n",
    "    def __init__(self):\n",
    "        # Keep a reference to the \"close\" line in the data[0] dataseries\n",
    "        self.dataclose = self.datas[0].close\n",
    "\n",
    "        # To keep track of pending orders and buy price/commission\n",
    "        self.order = None\n",
    "        self.buyprice = None\n",
    "        self.buycomm = None\n",
    "        print('init')\n",
    "\n",
    "        # Add a MovingAverageSimple indicator\n",
    "        self.sma = bt.indicators.SimpleMovingAverage(\n",
    "            self.datas[0], period=self.params.maperiod)\n",
    "\n",
    "    def notify_order(self, order):\n",
    "        if order.status in [order.Submitted, order.Accepted]:\n",
    "            # Buy/Sell order submitted/accepted to/by broker - Nothing to do\n",
    "            return\n",
    "\n",
    "        # Check if an order has been completed\n",
    "        # Attention: broker could reject order if not enough cash\n",
    "        if order.status in [order.Completed]:\n",
    "            if order.isbuy():\n",
    "                self.log(\n",
    "                    'BUY EXECUTED, Price: %.2f, Cost: %.2f, Comm %.2f' %\n",
    "                    (order.executed.price,\n",
    "                     order.executed.value,\n",
    "                     order.executed.comm))\n",
    "\n",
    "                self.buyprice = order.executed.price\n",
    "                self.buycomm = order.executed.comm\n",
    "            else:  # Sell\n",
    "                self.log('SELL EXECUTED, Price: %.2f, Cost: %.2f, Comm %.2f' %\n",
    "                         (order.executed.price,\n",
    "                          order.executed.value,\n",
    "                          order.executed.comm))\n",
    "\n",
    "            self.bar_executed = len(self)\n",
    "\n",
    "        elif order.status in [order.Canceled, order.Margin, order.Rejected]:\n",
    "            self.log('Order Canceled/Margin/Rejected')\n",
    "\n",
    "        # Write down: no pending order\n",
    "        self.order = None\n",
    "\n",
    "    def notify_trade(self, trade):\n",
    "        if not trade.isclosed:\n",
    "            return\n",
    "\n",
    "        self.log('OPERATION PROFIT, GROSS %.2f, NET %.2f' %\n",
    "                 (trade.pnl, trade.pnlcomm))\n",
    "\n",
    "    def next(self):\n",
    "        # Simply log the closing price of the series from the reference\n",
    "        self.log('Close, %.2f' % self.dataclose[0])\n",
    "        self\n",
    "\n",
    "        # Check if an order is pending ... if yes, we cannot send a 2nd one\n",
    "        if self.order:\n",
    "            return\n",
    "\n",
    "        # Check if we are in the market\n",
    "        if not self.position:\n",
    "\n",
    "            # BUY, BUY, BUY!!! (with all possible default parameters)\n",
    "            self.log('BUY CREATE, %.2f' % self.dataclose[0])\n",
    "\n",
    "            # Keep track of the created order to avoid a 2nd order\n",
    "            self.order = self.buy()\n",
    "\n",
    "        else:\n",
    "\n",
    "            if self.dataclose[0] < self.sma[0]:\n",
    "                # SELL, SELL, SELL!!! (with all possible default parameters)\n",
    "                self.log('SELL CREATE, %.2f' % self.dataclose[0])\n",
    "\n",
    "                # Keep track of the created order to avoid a 2nd order\n",
    "                self.order = self.sell()\n",
    "\n",
    "    def stop(self):\n",
    "        self.log('(MA Period %2d) Ending Value %.2f' %\n",
    "                 (self.params.maperiod, self.broker.getvalue()), doprint=True)"
   ]
  },
  {
   "cell_type": "code",
   "execution_count": 20,
   "id": "189d6b81",
   "metadata": {},
   "outputs": [
    {
     "name": "stdout",
     "output_type": "stream",
     "text": [
      "init\n",
      "2023-12-06, (MA Period 15) Ending Value 13167.93\n"
     ]
    },
    {
     "data": {
      "text/plain": [
       "[<__main__.TestStrategy at 0x7f9bbe038790>]"
      ]
     },
     "execution_count": 20,
     "metadata": {},
     "output_type": "execute_result"
    }
   ],
   "source": [
    "cerebro = bt.Cerebro()\n",
    "\n",
    "# Add the `pandas` feed to cerebro\n",
    "cerebro.adddata(feed)\n",
    "\n",
    "# Add any other desired strategies, observers, or analyzers\n",
    "strategy = TestStrategy\n",
    "cerebro.addstrategy(strategy)\n",
    "# Run the backtest\n",
    "cerebro.run()\n"
   ]
  },
  {
   "cell_type": "code",
   "execution_count": 7,
   "id": "d51a001b",
   "metadata": {},
   "outputs": [],
   "source": [
    "data = bt.feeds.PandasData(dataname=sp500)"
   ]
  },
  {
   "cell_type": "code",
   "execution_count": 10,
   "id": "0bc4f0d3",
   "metadata": {},
   "outputs": [
    {
     "data": {
      "text/plain": [
       "pandas._libs.tslibs.timestamps.Timestamp"
      ]
     },
     "execution_count": 10,
     "metadata": {},
     "output_type": "execute_result"
    }
   ],
   "source": [
    "sp500 = pd.read_csv('data/sp500.csv')\n",
    "sp500.columns = map(lambda x: x.lower() ,sp500.columns)\n",
    "sp500['datetime'] = sp500['date']\n",
    "sp500 = sp500.drop('date', axis=1)\n",
    "sp500['datetime'] = pd.to_datetime(pd.Series(map(lambda x: x[1][:10], list(sp500['datetime'].items()))))\n",
    "sp500 = sp500[['datetime','open','high','low','close','volume']]\n",
    "type(sp500['datetime'][1])"
   ]
  },
  {
   "cell_type": "code",
   "execution_count": 11,
   "id": "18988f50",
   "metadata": {},
   "outputs": [
    {
     "data": {
      "text/plain": [
       "[<backtrader.strategy.Strategy at 0x7f9bd4f43a60>]"
      ]
     },
     "execution_count": 11,
     "metadata": {},
     "output_type": "execute_result"
    }
   ],
   "source": [
    "class PandasDataFeed(bt.feeds.PandasData):\n",
    "    params = (\n",
    "            ('datetime', -1),\n",
    "            ('open', -1),\n",
    "            ('high', -1),\n",
    "            ('low', -1),\n",
    "            ('close', -1),\n",
    "            ('volume', -1),\n",
    "            ('openinterest', None),\n",
    "        )\n",
    "\n",
    "\n",
    "feed = PandasDataFeed(dataname=sp500)\n",
    "\n",
    "# Create a cerebro instance\n",
    "cerebro = bt.Cerebro()\n",
    "\n",
    "# Add the `pandas` feed to cerebro\n",
    "cerebro.adddata(feed)\n",
    "\n",
    "# Add any other desired strategies, observers, or analyzers\n",
    "\n",
    "# Run the backtest\n",
    "cerebro.run()\n"
   ]
  },
  {
   "cell_type": "code",
   "execution_count": 12,
   "id": "b8e0b177",
   "metadata": {},
   "outputs": [
    {
     "data": {
      "text/plain": [
       "Index(['datetime', 'open', 'high', 'low', 'close', 'volume'], dtype='object')"
      ]
     },
     "execution_count": 12,
     "metadata": {},
     "output_type": "execute_result"
    }
   ],
   "source": [
    "sp500.columns"
   ]
  },
  {
   "cell_type": "code",
   "execution_count": 13,
   "id": "e72dfe76",
   "metadata": {},
   "outputs": [
    {
     "data": {
      "text/plain": [
       "pandas._libs.tslibs.timestamps.Timestamp"
      ]
     },
     "execution_count": 13,
     "metadata": {},
     "output_type": "execute_result"
    }
   ],
   "source": [
    "data = pd.DataFrame({\n",
    "    'datetime': ['2022-01-01', '2022-01-02', '2022-01-03'],\n",
    "    'open': [100.0, 101.0, 102.0],\n",
    "    'high': [105.0, 106.0, 107.0],\n",
    "    'low': [99.0, 99.5, 100.5],\n",
    "    'close': [103.0, 104.0, 105.0],\n",
    "    'volume': [1000, 2000, 3000]\n",
    "})\n",
    "data['datetime'] = pd.to_datetime(data['datetime'])\n",
    "data.columns\n",
    "type(data['datetime'][1])"
   ]
  },
  {
   "cell_type": "code",
   "execution_count": null,
   "id": "2490a4e3",
   "metadata": {},
   "outputs": [],
   "source": []
  }
 ],
 "metadata": {
  "kernelspec": {
   "display_name": "Python 3 (ipykernel)",
   "language": "python",
   "name": "python3"
  },
  "language_info": {
   "codemirror_mode": {
    "name": "ipython",
    "version": 3
   },
   "file_extension": ".py",
   "mimetype": "text/x-python",
   "name": "python",
   "nbconvert_exporter": "python",
   "pygments_lexer": "ipython3",
   "version": "3.10.11"
  }
 },
 "nbformat": 4,
 "nbformat_minor": 5
}
