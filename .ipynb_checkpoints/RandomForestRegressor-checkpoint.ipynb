{
 "cells": [
  {
   "cell_type": "code",
   "execution_count": 1,
   "id": "d9d72cf2",
   "metadata": {},
   "outputs": [],
   "source": [
    "import pandas as pd\n",
    "import numpy as np\n",
    "from sklearn.ensemble import RandomForestRegressor\n",
    "import ta"
   ]
  },
  {
   "cell_type": "code",
   "execution_count": 2,
   "id": "6ecdb3f1",
   "metadata": {},
   "outputs": [],
   "source": [
    "#read raw data\n",
    "def readFinancialData(name):\n",
    "    df = pd.read_csv(f'FinancialData/{name}.csv')\n",
    "    df = df.set_index('Date')\n",
    "    return df.drop('Code', axis=1)"
   ]
  },
  {
   "cell_type": "code",
   "execution_count": 3,
   "id": "333f108d",
   "metadata": {},
   "outputs": [],
   "source": [
    "#add technical indicators\n",
    "def addIndicators(df, windows):\n",
    "    high = df['High']\n",
    "    low = df['Low']\n",
    "    close = df['Close']\n",
    "    #volume = df['Volume']\n",
    "    for i in windows:\n",
    "        df[f'Close_ratio_{i}'] = close / close.rolling(i).mean()\n",
    "        df[f'High_ratio_{i}'] = high / high.rolling(i).mean()\n",
    "        df[f'Low_ratio_{i}'] = low / low.rolling(i).mean()\n",
    "        #RSI\n",
    "        df[f'RSI_{i}'] = ta.momentum.RSIIndicator(close=close, window=i).rsi()\n",
    "        #Stochastic Oscillator\n",
    "        df[f'STO_{i}'] = ta.momentum.StochasticOscillator(high=high, low=low, close=close, window=i, smooth_window=3).stoch()\n",
    "        #Stochastic Oscillator signal\n",
    "        df[f'STOsig_{i}'] = ta.momentum.StochasticOscillator(high=high, low=low, close=close, window=i, smooth_window=3).stoch_signal()\n",
    "        #Momentum\n",
    "        df[f'Momentum_{i}'] = pd.Series(df['Close'].diff(i))\n",
    "        #Money Flow Index (MFI)\n",
    "        #df[f'MFI_{i}'] = ta.volume.MFIIndicator(high=high, low=low, close=close, volume=volume, window=i).money_flow_index()\n",
    "        #Rate of Change (ROC)\n",
    "        df[f'ROC_{i}'] = ta.momentum.ROCIndicator(close=close, window=i).roc()\n",
    "        #Commodity Channel Index (CCI)\n",
    "        #df[f'CCI_{i}'] = ta.trend.CCIIndicator(high=high, low=low, close=close, window=i).cci()\n",
    "        #ease of movement (EOM)\n",
    "        #This indicator is providing nan values in the end, which is not normal\n",
    "        #df[f'EOM_{i}'] = ta.volume.EaseOfMovementIndicator(high=high, low=low, volume=volume, window=i).sma_ease_of_movement()\n",
    "        #Trix\n",
    "        df[f'Trix_{i}'] = ta.trend.TRIXIndicator(close=close, window=i).trix()\n",
    "        #Vortex\n",
    "        df[f'Vortex_{i}'] = ta.trend.VortexIndicator(high=high, low=low, close=close, window=i).vortex_indicator_diff()\n",
    "        #EMA\n",
    "        df[f'EMA_{i}'] = ta.trend.EMAIndicator(close=close, window=i).ema_indicator()\n",
    "    #Accumulation/Distribution Index (ADI) (ACCDIST)\n",
    "    #df['ADI'] = ta.volume.AccDistIndexIndicator(high=high, low=low, close=close, volume=volume).acc_dist_index()\n",
    "    #On-balance-Volume\n",
    "    #df['OBV'] = ta.volume.OnBalanceVolumeIndicator(close=close, volume=volume).on_balance_volume()\n",
    "    #MACD, window_slow: int = 26, window_fast: int = 12, window_sign: int = 9\n",
    "    df['MACD'] = ta.trend.MACD(close=close).macd()\n",
    "    df['MACD_diff'] = ta.trend.MACD(close=close).macd_diff()\n",
    "    df['MACD_sig'] = ta.trend.MACD(close=close).macd_signal()\n",
    "    return df.iloc[windows[-1]*3:]"
   ]
  },
  {
   "cell_type": "code",
   "execution_count": 4,
   "id": "a08b0be3",
   "metadata": {},
   "outputs": [],
   "source": [
    "#print out any column contains nan values\n",
    "def checknan(X):\n",
    "    for col in X.columns:\n",
    "        for value in list(X[col].items()):\n",
    "            if np.isnan(value[1]):\n",
    "                print(col,value[0])\n",
    "            if value[1] > 3.4e+38:\n",
    "                print(f'nan in {col}')"
   ]
  },
  {
   "cell_type": "code",
   "execution_count": 5,
   "id": "9a0fa248",
   "metadata": {},
   "outputs": [],
   "source": [
    "#create targets with n days forward\n",
    "def getTarget(df,n):\n",
    "    y = (df['Close'].shift(-n) / df['Close'])\n",
    "    y.name = 'Target'\n",
    "    return y"
   ]
  },
  {
   "cell_type": "code",
   "execution_count": 6,
   "id": "ba434b2b",
   "metadata": {},
   "outputs": [],
   "source": [
    "#train and predict\n",
    "def train_predict(X, n, range_row):\n",
    "    y = getTarget(X, n)\n",
    "    model = RandomForestRegressor(n_estimators=200, min_samples_split=100, random_state=3)\n",
    "    begin_row = range_row[0]\n",
    "    final_row = range_row[1]\n",
    "    X_train = X.iloc[:begin_row-n]\n",
    "    y_train = y.iloc[:begin_row-n]\n",
    "    model.fit(X=X_train, y=y_train)\n",
    "    if final_row != 0:\n",
    "        y_pred = model.predict(X.iloc[begin_row:final_row])\n",
    "    else:\n",
    "        return model.predict(np.array(X.iloc[-1]).reshape(1,-1))\n",
    "    return y_pred"
   ]
  },
  {
   "cell_type": "code",
   "execution_count": 7,
   "id": "cd40b141",
   "metadata": {},
   "outputs": [],
   "source": [
    "#create training groups backward\n",
    "def getRange(length, n_group):\n",
    "    l = []\n",
    "    start = -1\n",
    "    for i in range(n_group):\n",
    "        l.append((start-length*(i+1), start-length*i))\n",
    "    return l"
   ]
  },
  {
   "cell_type": "markdown",
   "id": "0c628dbc",
   "metadata": {},
   "source": [
    "### Main cells"
   ]
  },
  {
   "cell_type": "code",
   "execution_count": null,
   "id": "60b037a9",
   "metadata": {},
   "outputs": [],
   "source": [
    "#generate predictions for neural network training\n",
    "windows = [2,3,5,14,21]\n",
    "length = 63\n",
    "n_group = 7\n",
    "tickers = 'SPX,NKX,2YUSY,10YUSY,USDEUR,USDJPY,BTCUSD,ETH'\n",
    "for ticker in tickers.split(','):\n",
    "    print(ticker, end='')\n",
    "    data = readFinancialData(ticker)\n",
    "    X = addIndicators(data, windows)\n",
    "    checknan(X)\n",
    "    ranges = getRange(length,n_group)\n",
    "    df_pred = pd.DataFrame(index = data.index)\n",
    "    for r in ranges:\n",
    "        print('\\ngroup',r, end=' ')\n",
    "        for n in range(1,16):\n",
    "            if str(n) not in df_pred.columns:\n",
    "                df_pred[str(n)] = 0\n",
    "                #print(f'create col {n}',end=' ')\n",
    "            print(n, end=' ')\n",
    "            y_pred = train_predict(X, n, r)\n",
    "            y_series = pd.Series(y_pred, index=X.iloc[r[0]:r[1]].index)\n",
    "            df_pred.loc[y_series.index,str(n)] += y_series\n",
    "    df_pred.to_csv(f'FinancialData/{ticker}_pred2.csv')\n",
    "    print(ticker, 'saved')"
   ]
  },
  {
   "cell_type": "code",
   "execution_count": null,
   "id": "5d0734c0",
   "metadata": {
    "scrolled": true
   },
   "outputs": [],
   "source": [
    "#predict for latest day\n",
    "ticker = 'ETH'\n",
    "\n",
    "windows = [2,3,5,14,21]\n",
    "data = readFinancialData(ticker)\n",
    "X = addIndicators(data, windows)\n",
    "checknan(X)\n",
    "df_pred = pd.DataFrame(index = data.index)\n",
    "\n",
    "for n in range(1,16):\n",
    "    if str(n) not in df_pred.columns:\n",
    "        df_pred[str(n)] = 0\n",
    "        #print(f'create col {n}',end=' ')\n",
    "    print(n, end=' ')\n",
    "    y_pred = train_predict(X, n, (-1,0))\n",
    "    y_series = pd.Series(y_pred, index=[X.iloc[-1].name])\n",
    "    df_pred.loc[y_series.index,str(n)] += y_series"
   ]
  },
  {
   "cell_type": "markdown",
   "id": "7a3a70c1",
   "metadata": {},
   "source": [
    "### Visualization of data"
   ]
  },
  {
   "cell_type": "code",
   "execution_count": null,
   "id": "6d8f0f99",
   "metadata": {},
   "outputs": [],
   "source": [
    "for i in list(df_pred.iloc[-1]):\n",
    "    print(i,end=',')"
   ]
  },
  {
   "cell_type": "code",
   "execution_count": null,
   "id": "adf430cd",
   "metadata": {},
   "outputs": [],
   "source": [
    "X.columns"
   ]
  },
  {
   "cell_type": "code",
   "execution_count": null,
   "id": "811b0c1a",
   "metadata": {},
   "outputs": [],
   "source": [
    "X.shape"
   ]
  },
  {
   "cell_type": "code",
   "execution_count": null,
   "id": "115456db",
   "metadata": {},
   "outputs": [],
   "source": [
    "X.index"
   ]
  }
 ],
 "metadata": {
  "kernelspec": {
   "display_name": "Python 3 (ipykernel)",
   "language": "python",
   "name": "python3"
  },
  "language_info": {
   "codemirror_mode": {
    "name": "ipython",
    "version": 3
   },
   "file_extension": ".py",
   "mimetype": "text/x-python",
   "name": "python",
   "nbconvert_exporter": "python",
   "pygments_lexer": "ipython3",
   "version": "3.10.11"
  }
 },
 "nbformat": 4,
 "nbformat_minor": 5
}
